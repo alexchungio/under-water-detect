{
 "cells": [
  {
   "cell_type": "markdown",
   "metadata": {},
   "source": [
    "# Exploratory data analysis"
   ]
  },
  {
   "cell_type": "code",
   "execution_count": 1,
   "metadata": {},
   "outputs": [],
   "source": [
    "# load json\n",
    "import json\n",
    "with open('/media/alex/80CA308ECA308288/alex_dataset/URPC-2020/train/annotation/voc_all.json') as f:\n",
    "    all_data=json.load(f)\n",
    "# with open('/media/alex/80CA308ECA308288/alex_dataset/URPC-2020/train/annotation/train_new.json') as g:\n",
    "#     train=json.load(g)  \n",
    "# with open('/media/alex/80CA308ECA308288/alex_dataset/URPC-2020/train/annotation/val_new.json') as h:\n",
    "#     val=json.load(h)"
   ]
  },
  {
   "cell_type": "code",
   "execution_count": 2,
   "metadata": {},
   "outputs": [
    {
     "name": "stdout",
     "output_type": "stream",
     "text": [
      "number category: 4\n"
     ]
    },
    {
     "data": {
      "text/plain": [
       "[{'name': 'holothurian', 'id': 1},\n",
       " {'name': 'echinus', 'id': 2},\n",
       " {'name': 'scallop', 'id': 3},\n",
       " {'name': 'starfish', 'id': 4}]"
      ]
     },
     "execution_count": 2,
     "metadata": {},
     "output_type": "execute_result"
    }
   ],
   "source": [
    "print('number category: {}'.format(len(all_data['categories'])))\n",
    "all_data['categories']"
   ]
  },
  {
   "cell_type": "code",
   "execution_count": 3,
   "metadata": {},
   "outputs": [
    {
     "name": "stdout",
     "output_type": "stream",
     "text": [
      "训练图片数量: 5543\n",
      "训练标签数量: 41441\n"
     ]
    }
   ],
   "source": [
    "print('训练图片数量: {}'.format(len(all_data['images'])))\n",
    "print('训练标签数量: {}'.format(len(all_data['annotations'])))"
   ]
  },
  {
   "cell_type": "code",
   "execution_count": 4,
   "metadata": {},
   "outputs": [
    {
     "name": "stdout",
     "output_type": "stream",
     "text": [
      "长宽为(704, 576)的数量: 38\n",
      "长宽为(1920, 1080)的数量: 596\n",
      "长宽为(3840, 2160)的数量: 1712\n",
      "长宽为(720, 405)的数量: 3153\n",
      "长宽为(586, 480)的数量: 44\n"
     ]
    }
   ],
   "source": [
    "total=[]\n",
    "for img in all_data['images']:\n",
    "    wh=(img['width'], img['height'])\n",
    "    total.append(wh)\n",
    "unique=set(total)\n",
    "for k in unique:\n",
    "    print('长宽为({}, {})的数量: {}'.format(k[0], k[1], total.count(k)))"
   ]
  },
  {
   "cell_type": "code",
   "execution_count": 5,
   "metadata": {},
   "outputs": [
    {
     "name": "stdout",
     "output_type": "stream",
     "text": [
      "训练集图片数量:  5543\n",
      "unique id 数量:  41441\n",
      "unique image_id 数量:  5455\n"
     ]
    }
   ],
   "source": [
    "anns_id = []\n",
    "images_id = []\n",
    "for anns in all_data['annotations']:\n",
    "    anns_id.append(anns['id'])\n",
    "    images_id.append(anns['image_id'])\n",
    "print('训练集图片数量: ', len(all_data['images']))\n",
    "print('unique id 数量: ', len(set(anns_id)))\n",
    "print('unique image_id 数量: ', len(set(images_id)))"
   ]
  },
  {
   "cell_type": "markdown",
   "metadata": {},
   "source": [
    "**训练图片的id数量与标注对应的图片数量不匹配**，意味着可能存在标注错误或者图片缺失，因此需要对annos作进一步过滤"
   ]
  },
  {
   "cell_type": "markdown",
   "metadata": {},
   "source": [
    "### 查看缺失图片数量"
   ]
  },
  {
   "cell_type": "code",
   "execution_count": 6,
   "metadata": {},
   "outputs": [
    {
     "name": "stdout",
     "output_type": "stream",
     "text": [
      "缺少标注的图像数量：88\n"
     ]
    }
   ],
   "source": [
    "import os\n",
    "unique_image = {'{:06d}'.format(img_id) for img_id in set(images_id)}\n",
    "actual_images_names = os.listdir('/media/alex/80CA308ECA308288/alex_dataset/URPC-2020/train/image')\n",
    "actual_images_id = [img_name.split('.')[0] for img_name in actual_images_names]\n",
    "origin_list = set(actual_images_id)\n",
    "\n",
    "gaps = origin_list - unique_image\n",
    "print('缺少标注的图像数量：{}'.format(len(gaps)))\n"
   ]
  },
  {
   "cell_type": "markdown",
   "metadata": {},
   "source": [
    "gaps的元素在origin_list中存在，但是在unique_image中不存在,有88个文件没有标注信息，annotation为空那么在训练的过程中，全图为空，没有标注的图，应该删掉，或者使用mixup，增强特征\n",
    "\n",
    "mmdetection会自动删除全图标注为空的样本"
   ]
  },
  {
   "cell_type": "markdown",
   "metadata": {},
   "source": [
    "### 查看统计量"
   ]
  },
  {
   "cell_type": "code",
   "execution_count": 7,
   "metadata": {},
   "outputs": [],
   "source": [
    "import pandas as pd\n",
    "import seaborn as sns\n",
    "import matplotlib.pyplot as plt\n",
    "plt.rcParams['font.sans-serif'] = ['SimHei']\n",
    "plt.rcParams['font.family']='sans-serif'\n",
    "plt.rcParams['figure.figsize'] = (10.0, 10.0)"
   ]
  },
  {
   "cell_type": "code",
   "execution_count": 8,
   "metadata": {},
   "outputs": [
    {
     "data": {
      "text/plain": [
       "{1: 'holothurian', 2: 'echinus', 3: 'scallop', 4: 'starfish'}"
      ]
     },
     "execution_count": 8,
     "metadata": {},
     "output_type": "execute_result"
    }
   ],
   "source": [
    "## 创建类别标签字典\n",
    "category_dict = dict([(cate['id'], cate['name']) for cate in all_data['categories']])\n",
    "category_dict"
   ]
  },
  {
   "cell_type": "code",
   "execution_count": 9,
   "metadata": {},
   "outputs": [
    {
     "name": "stdout",
     "output_type": "stream",
     "text": [
      "总数据集每个类别的标注数量： {'holothurian': 5537, 'echinus': 22343, 'scallop': 6720, 'starfish': 6841}\n"
     ]
    }
   ],
   "source": [
    "counts_label_all=dict([(cate['name'], 0) for cate in all_data['categories']])\n",
    "# counts_label_train=dict([(j['name'], 0) for j in train['categories']])\n",
    "# counts_label_val=dict([(h['name'], 0) for h in val['categories']])\n",
    "for anns in all_data['annotations']:\n",
    "    counts_label_all[category_dict[anns['category_id']]] += 1\n",
    "# for j in train['annotations']:  \n",
    "#     counts_label_train[category_dic[j['category_id']]] += 1\n",
    "# for n in val['annotations']:\n",
    "#     counts_label_val[category_dic[n['category_id']]] += 1\n",
    "    \n",
    "print(\"总数据集每个类别的标注数量： {}\".format(counts_label_all))\n",
    "# print(\"train集每个类别的标注数量： {}\".format(counts_label_train))\n",
    "# print(\"val集每个类别的标注数量： {}\".format(counts_label_val))"
   ]
  },
  {
   "cell_type": "code",
   "execution_count": 10,
   "metadata": {},
   "outputs": [
    {
     "name": "stderr",
     "output_type": "stream",
     "text": [
      "findfont: Font family ['sans-serif'] not found. Falling back to DejaVu Sans.\n"
     ]
    },
    {
     "name": "stdout",
     "output_type": "stream",
     "text": [
      "                 0\n",
      "holothurian   5537\n",
      "echinus      22343\n",
      "scallop       6720\n",
      "starfish      6841\n"
     ]
    },
    {
     "data": {
      "image/png": "[encoded data removed]",
      "text/plain": [
       "<Figure size 720x720 with 1 Axes>"
      ]
     },
     "metadata": {},
     "output_type": "display_data"
    }
   ],
   "source": [
    "# 打印\n",
    "%matplotlib inline \n",
    "plt.style.use({'figure.figsize':(10, 10)})\n",
    "indices=counts_label_all.keys()\n",
    "values=counts_label_all.values()\n",
    "count_df=pd.DataFrame(list(values),index=indices)\n",
    "print(count_df)\n",
    "count_df.iloc[:,0].plot.pie()\n",
    "plt.legend()\n",
    "plt.axis('off')\n",
    "plt.show()"
   ]
  },
  {
   "cell_type": "code",
   "execution_count": null,
   "metadata": {},
   "outputs": [],
   "source": []
  }
 ],
 "metadata": {
  "kernelspec": {
   "display_name": "pytorch",
   "language": "python",
   "name": "pytorch"
  },
  "language_info": {
   "codemirror_mode": {
    "name": "ipython",
    "version": 3
   },
   "file_extension": ".py",
   "mimetype": "text/x-python",
   "name": "python",
   "nbconvert_exporter": "python",
   "pygments_lexer": "ipython3",
   "version": "3.6.8"
  }
 },
 "nbformat": 4,
 "nbformat_minor": 4
}
